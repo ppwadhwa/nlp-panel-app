{
 "cells": [
  {
   "cell_type": "markdown",
   "metadata": {},
   "source": [
    "# Building a panel pipeline"
   ]
  },
  {
   "cell_type": "markdown",
   "metadata": {},
   "source": [
    "In a few past blog posts, we have given some examples of how to build dashboards using panel.  These have all been one stage examples, but you can actually use panel to build a pipeline of stages with information that is carried over from one stage to the next.  \n",
    "\n",
    "\n",
    "In this post, I will show you an example of a simple pipeline to give you an idea of how easy it is to put into place."
   ]
  },
  {
   "cell_type": "markdown",
   "metadata": {},
   "source": [
    "## Instantiating the pipeline"
   ]
  },
  {
   "cell_type": "markdown",
   "metadata": {},
   "source": [
    "You will start by importing panel, then instantiating a panel pipeline.  "
   ]
  },
  {
   "cell_type": "code",
   "execution_count": null,
   "metadata": {},
   "outputs": [],
   "source": [
    "import panel as pn\n",
    "\n",
    "pn.extension()\n",
    "\n",
    "dag = pn.pipeline.Pipeline(inherit_params=False, debug=True)"
   ]
  },
  {
   "cell_type": "markdown",
   "metadata": {},
   "source": [
    "## Building Stages"
   ]
  },
  {
   "cell_type": "markdown",
   "metadata": {},
   "source": [
    "Next, you can add stages to the pipeline.  In order to this, we need build stages to add.  \n",
    "\n"
   ]
  },
  {
   "cell_type": "markdown",
   "metadata": {},
   "source": [
    "For a panel pipeline to work, you must create paramterized classes (inherit from the `param.Parameterized` class) and include param objects.  Param is a library that declares types, ranges and documentation for param objects.  In panel, param is used to link a param object with a certain visualization or computation (using the `@param.depends` method); and in a panel pipeline, the param `@param.output` method is used to indicate the parameters to pass from one stage to the next.  The following stage in the pipeline must also have the same parameters declared in order to consume the output from the previous stage.  \n",
    "\n",
    "In addition, you must also include a `panel` method for each stage that will determine the layout of the widgets you are including in your app.  \n",
    "  "
   ]
  },
  {
   "cell_type": "markdown",
   "metadata": {},
   "source": [
    "Below, `stage1` will display a text input widget and a continue button.  The text typed in stage 1 will be passed to the next stage.  In order to do that I have defined a `text` string parameter and an `output` method with the `param.output('text')` decorator.  This indicates that `text` is the output of this stage.\n",
    "\n",
    "I also want to point out here that I included a `ready` parameter.  These can be useful in order to control when the stage is complete and ready to move to the next.  Later, you will see how it is used in the pipeline."
   ]
  },
  {
   "cell_type": "code",
   "execution_count": null,
   "metadata": {},
   "outputs": [],
   "source": [
    "import param\n",
    "class stage1(param.Parameterized):\n",
    "    \n",
    "    ready = param.Boolean(\n",
    "        default=False,\n",
    "        doc='trigger for moving to the next page',\n",
    "        )   \n",
    "    \n",
    "    text = param.String()\n",
    "    \n",
    "    def __init__(self, **params):\n",
    "        super().__init__(**params)\n",
    "        self.text_input = pn.widgets.TextInput(name='Text Input', placeholder='Enter a string here...')\n",
    "        self.continue_button = pn.widgets.Button(name='Continue',button_type='primary')\n",
    "        self.continue_button.on_click(self.on_click_continue)\n",
    "        \n",
    "    def on_click_continue(self, event):\n",
    "        self.ready=True\n",
    "    \n",
    "    @param.output('text')\n",
    "    def output(self):\n",
    "        text = self.text_input.value\n",
    "        return text\n",
    "        \n",
    "    def panel(self):\n",
    "        return pn.Column(pn.WidgetBox(self.text_input,\n",
    "                  self.continue_button)\n",
    "                 )\n",
    "        "
   ]
  },
  {
   "cell_type": "markdown",
   "metadata": {},
   "source": [
    "`Stage2` is going to display a single line of static text that will display what the user entered in `Stage1`.  Below, you can see that `text` was defined again as a `param.String`.  "
   ]
  },
  {
   "cell_type": "code",
   "execution_count": null,
   "metadata": {},
   "outputs": [],
   "source": [
    "class stage2(param.Parameterized):\n",
    "    \n",
    "    \n",
    "    text = param.String()\n",
    "    \n",
    "    def __init__(self, **params):\n",
    "        super().__init__(**params)\n",
    "        self.text_display = pn.widgets.StaticText(name='Previously, you typed ', value=self.text, font_size=20)\n",
    "        \n",
    "    def panel(self):\n",
    "        return pn.Column(pn.WidgetBox(self.text_display, height = 50), )"
   ]
  },
  {
   "cell_type": "markdown",
   "metadata": {},
   "source": [
    "## Adding stages to pipeline"
   ]
  },
  {
   "cell_type": "markdown",
   "metadata": {},
   "source": [
    "Now that our classes are defined, we can add the stages to the pipeline.  Below, you'll notice that each stage has string input that will serve as the string identifier for this stage, and then the second input is the class being added in this stage.  Here I have added a `\"Stage 1\"` and `\"Stage 2\"`.  \n",
    "\n",
    "Earlier, I mentioned having a `ready` parameter defined.  When adding a stage, you can specify the `ready_parameter` and set `auto_advance` to True, which will cause the next stage to appear when that `ready_parameter` is triggered.  \n",
    "\n",
    "After adding stages, you will define the relationship between the stages by calling the `define_graph` method.  This will determine the order of stages.  Here we will start with `Stage 1` then move to `Stage 2`.  "
   ]
  },
  {
   "cell_type": "code",
   "execution_count": null,
   "metadata": {},
   "outputs": [],
   "source": [
    "dag.add_stage(\n",
    "    'Stage 1',\n",
    "    stage1,\n",
    "    ready_parameter='ready',\n",
    "    auto_advance=True\n",
    ")\n",
    "\n",
    "dag.add_stage(\n",
    "            'Stage 2',\n",
    "            stage2,\n",
    "            )\n",
    "\n",
    "dag.define_graph(\n",
    "            {'Stage 1': 'Stage 2',\n",
    "             }\n",
    "            )\n",
    "\n",
    "\n",
    "example_app = pn.Column(dag.stage).servable()"
   ]
  },
  {
   "cell_type": "markdown",
   "metadata": {},
   "source": [
    "## View the new pipeline"
   ]
  },
  {
   "cell_type": "markdown",
   "metadata": {},
   "source": [
    "Let's view our app and confirm it does what we expect:"
   ]
  },
  {
   "cell_type": "code",
   "execution_count": null,
   "metadata": {},
   "outputs": [],
   "source": [
    "example_app"
   ]
  },
  {
   "cell_type": "markdown",
   "metadata": {},
   "source": [
    "This pipeline was about as simple as you can get.  The point here was to show how easy it is to put these pieces into place.  I have included an example below that includes more complicated stages.  You do everything just the same, but now you will insert the different stages in place of `stage1` and `stage2`.\n",
    "\n"
   ]
  },
  {
   "cell_type": "markdown",
   "metadata": {},
   "source": [
    "# Pipeline with more complicated stages"
   ]
  },
  {
   "cell_type": "markdown",
   "metadata": {},
   "source": [
    "I built a custom NLP pre-processing app with 2 stages that I can also insert into a similar pipeline as above.  I can import these classes from a python file, and insert objects of these classes into my pipeline.  \n"
   ]
  },
  {
   "cell_type": "code",
   "execution_count": null,
   "metadata": {},
   "outputs": [],
   "source": [
    "# Stage 1\n",
    "\n",
    "from app.api import PreProcessor\n",
    "\n",
    "\n",
    "# Stage 2\n",
    "\n",
    "from app.test_train import trainer\n"
   ]
  },
  {
   "cell_type": "markdown",
   "metadata": {},
   "source": [
    "The pipeline is established just as before.  Instead of using `stage1` and `stage2` as my string tags, I will give more meaningful string names for each stage: `Preprocess` and `Testing`."
   ]
  },
  {
   "cell_type": "code",
   "execution_count": null,
   "metadata": {},
   "outputs": [],
   "source": [
    "import panel as pn\n",
    "pn.extension()\n",
    "\n",
    "dag = pn.pipeline.Pipeline(inherit_params=False)\n",
    "\n",
    "dag.add_stage(\n",
    "    'Preprocess',\n",
    "    PreProcessor,\n",
    "    ready_parameter='ready',\n",
    "    auto_advance=True\n",
    ")\n",
    "\n",
    "dag.add_stage(\n",
    "            'Testing',\n",
    "            trainer,\n",
    "            ready_parameter='ready',\n",
    "            auto_advance=True,\n",
    "            )\n",
    "\n",
    "dag.define_graph(\n",
    "            {'Preprocess': 'Testing',\n",
    "             }\n",
    "            )\n",
    "\n",
    "\n",
    "SentimentApp = pn.Column(dag.stage).servable()"
   ]
  },
  {
   "cell_type": "markdown",
   "metadata": {},
   "source": [
    "And now we can view our new app:"
   ]
  },
  {
   "cell_type": "code",
   "execution_count": null,
   "metadata": {},
   "outputs": [],
   "source": [
    "SentimentApp"
   ]
  },
  {
   "cell_type": "markdown",
   "metadata": {},
   "source": [
    "## Final thoughts"
   ]
  },
  {
   "cell_type": "markdown",
   "metadata": {},
   "source": [
    "I hope you found this post on panel pipelines enlightening.  You can build much for elaborate stages or pipelines with more than 2 stages. You can even have branching stages that depend on user input (clicking a button to go to one stage or clicking another button to go to a different stage, for example).  Its quite flexible.  I encourage you to try building a panel pipeline app that can be useful in your work or daily life.  Not only is it fun, but I think you'll find panel makes it easy to put these stages into place!"
   ]
  },
  {
   "cell_type": "code",
   "execution_count": null,
   "metadata": {},
   "outputs": [],
   "source": []
  }
 ],
 "metadata": {
  "kernelspec": {
   "display_name": "Python 3",
   "language": "python",
   "name": "python3"
  },
  "language_info": {
   "codemirror_mode": {
    "name": "ipython",
    "version": 3
   },
   "file_extension": ".py",
   "mimetype": "text/x-python",
   "name": "python",
   "nbconvert_exporter": "python",
   "pygments_lexer": "ipython3",
   "version": "3.7.9"
  }
 },
 "nbformat": 4,
 "nbformat_minor": 4
}
