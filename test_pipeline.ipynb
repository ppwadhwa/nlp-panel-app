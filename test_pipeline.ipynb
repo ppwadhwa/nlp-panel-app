{
 "cells": [
  {
   "cell_type": "markdown",
   "id": "desperate-chinese",
   "metadata": {},
   "source": [
    "# For testing the whole pipeline, run the following:"
   ]
  },
  {
   "cell_type": "code",
   "execution_count": null,
   "id": "lesbian-rental",
   "metadata": {},
   "outputs": [],
   "source": [
    "from app.api import SentimentApp\n",
    "\n",
    "SentimentApp"
   ]
  },
  {
   "cell_type": "markdown",
   "id": "brutal-exclusive",
   "metadata": {},
   "source": [
    "# for testing the the PreProcessor, run the following:"
   ]
  },
  {
   "cell_type": "code",
   "execution_count": null,
   "id": "established-auditor",
   "metadata": {},
   "outputs": [],
   "source": [
    "from app.api import PreProcessor\n",
    "tmp = PreProcessor()\n",
    "tmp.panel()"
   ]
  }
 ],
 "metadata": {
  "kernelspec": {
   "display_name": "Python 3",
   "language": "python",
   "name": "python3"
  },
  "language_info": {
   "codemirror_mode": {
    "name": "ipython",
    "version": 3
   },
   "file_extension": ".py",
   "mimetype": "text/x-python",
   "name": "python",
   "nbconvert_exporter": "python",
   "pygments_lexer": "ipython3",
   "version": "3.6.12"
  }
 },
 "nbformat": 4,
 "nbformat_minor": 5
}
